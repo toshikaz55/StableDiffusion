{
  "nbformat": 4,
  "nbformat_minor": 0,
  "metadata": {
    "colab": {
      "provenance": [],
      "collapsed_sections": [
        "9qrpRUJpno7L"
      ],
      "include_colab_link": true
    },
    "kernelspec": {
      "name": "python3",
      "display_name": "Python 3"
    },
    "language_info": {
      "name": "python"
    },
    "accelerator": "GPU",
    "gpuClass": "premium"
  },
  "cells": [
    {
      "cell_type": "markdown",
      "metadata": {
        "id": "view-in-github",
        "colab_type": "text"
      },
      "source": [
        "<a href=\"https://colab.research.google.com/github/toshikaz55/StableDiffusion/blob/main/StableDiffusionUI_Voldemort_V1_3_ipynb_%E7%92%B0%E5%A2%83%E6%A7%8B%E7%AF%89.ipynb\" target=\"_parent\"><img src=\"https://colab.research.google.com/assets/colab-badge.svg\" alt=\"Open In Colab\"/></a>"
      ]
    },
    {
      "cell_type": "markdown",
      "source": [
        "Adapted from: https://colab.research.google.com/drive/1AfAmwLMd_Vx33O9IwY2TmO9wKZ8ABRRa"
      ],
      "metadata": {
        "id": "gfKvWAVnz8OB"
      }
    },
    {
      "cell_type": "code",
      "source": [
        "from google.colab import drive\n",
        "drive.mount('/content/drive/')"
      ],
      "metadata": {
        "id": "ldPJhgY86hWK",
        "outputId": "d4beecf2-ea6d-4a01-c658-6887f9aeec21",
        "colab": {
          "base_uri": "https://localhost:8080/"
        }
      },
      "execution_count": null,
      "outputs": [
        {
          "output_type": "stream",
          "name": "stdout",
          "text": [
            "Mounted at /content/drive/\n"
          ]
        }
      ]
    },
    {
      "cell_type": "code",
      "source": [
        "#%cd /content/drive/My Drive\n",
        "dir_name = '/content/drive/My Drive/Colab Notebooks/stablediffusionWebUI/'\n",
        "import sys\n",
        "import os\n",
        "sys.path.append(dir_name)\n",
        "!pwd\n",
        "os.chdir(dir_name) \n",
        "#!cd '/content/drive/My Drive/Colab Notebooks/stablediffusionWebUI/'\n",
        "!pwd\n",
        "\n",
        "!git clone https://github.com/AUTOMATIC1111/stable-diffusion-webui\n",
        "%cd stable-diffusion-webui\n",
        "!pwd\n",
        "#@title SD1.5\n",
        "# get a token from https://huggingface.co/settings/tokens\n",
        "#user_token = \"\" #@param {type:\"string\"}\n",
        "#user_header = f\"\\\"Authorization: Bearer {user_token}\\\"\"\n",
        "#!wget --header={user_header} https://huggingface.co/runwayml/stable-diffusion-v1-5/resolve/main/v1-5-pruned.ckpt -O /content/stable-diffusion-webui/model.ckpt"
      ],
      "metadata": {
        "id": "I1j4j2NfAQye",
        "outputId": "d2553810-05a8-42e7-fab7-63e2ab6add0a",
        "colab": {
          "base_uri": "https://localhost:8080/"
        }
      },
      "execution_count": null,
      "outputs": [
        {
          "output_type": "stream",
          "name": "stdout",
          "text": [
            "/content\n",
            "/content/drive/My Drive/Colab Notebooks/stablediffusionWebUI\n",
            "fatal: destination path 'stable-diffusion-webui' already exists and is not an empty directory.\n",
            "/content/drive/My Drive/Colab Notebooks/stablediffusionWebUI/stable-diffusion-webui\n",
            "/content/drive/My Drive/Colab Notebooks/stablediffusionWebUI/stable-diffusion-webui\n"
          ]
        }
      ]
    },
    {
      "cell_type": "markdown",
      "source": [
        "Launch web ui. You will get a link to nnn.gradio.app, follow it.\n",
        "\n",
        "Commandline arguments are:\n",
        "  - `--share` - create online gradio.app link\n",
        "  - `--gradio-debug` - print outputs to console\n",
        "  - optional: `--gradio-auth me:qwerty` - add authentication to gradio: username me, password qwerty\n",
        "  - see [wiki](https://github.com/AUTOMATIC1111/stable-diffusion-webui/wiki/Command-Line-Arguments-and-Settings) for more options"
      ],
      "metadata": {
        "id": "xt8lbdmC04ox"
      }
    },
    {
      "cell_type": "code",
      "source": [
        "# Stable Diffusion1.5のモデルを使う場合\n",
        "!cp \"/content/drive/My Drive/Colab Notebooks/stablediffusionWebUI/models/v1-5-pruned-emaonly.ckpt\"   \"/content/drive/My Drive/Colab Notebooks/stablediffusionWebUI/stable-diffusion-webui/models/Stable-diffusion/\"\n",
        "##!cp /content/drive/My Drive/models/vae-ft-mse-840000-ema-pruned /content/drive/My Drive/stable-diffusion-webui/models/VAE/\n",
        "\n",
        "# Realistic Vision V1.3のモデルを使う場合\n",
        "#!cp /content/drive/My Drive/Colab Notebooks/stablediffusionebUI/models/Realistic_Vision_V1.4-pruned-fp16.ckpt   /content/drive/My Drive/Colab Notebooks/stablediffusionebUI/stable-diffusion-webui/models/Stable-diffusion/\n",
        "##!cp /content/drive/My Drive/Colab Notebooks/stablediffusionebUI/models/vae-ft-mse-840000-ema-pruned /content/drive/My Drive/Colab Notebooks/stablediffusionebUI/stable-diffusion-webui/models/VAE/\n",
        "\n",
        "# Anything3.0のモデルを使う場合\n",
        "#!cp /content/drive/My Drive/Colab Notebooks/stablediffusionebUI/models/Anything-V3.0.ckpt /content/drive/My Drive/Colab Notebooks/stablediffusionebUI/stable-diffusion-webui/models/Stable-diffusion/\n",
        "#!cp /content/drive/My Drive/Colab Notebooks/stablediffusionebUI/models/Anything-V3.0-pruned.ckpt /content/drive/My Drive/Colab Notebooks/stablediffusionebUI/stable-diffusion-webui/models/VAE/\n",
        "\n",
        "# Trinart Diffusion2.0のモデルを使う場合\n",
        "#!cp /content/drive/My Drive/Colab Notebooks/stablediffusionebUI/models/trinart_step60000.ckpt  /content/drive/My Drive/Colab Notebooks/stablediffusionebUI/stable-diffusion-webui/models/Stable-diffusion/\n",
        "##!cp /content/drive/My Drive/Colab Notebooks/stablediffusionebUI/models/kl-f8-anime2.ckpt /content/drive/My Drive/Colab Notebooks/stablediffusionebUI/stable-diffusion-webui/models/VAE/\n",
        "\n"
      ],
      "metadata": {
        "id": "IKuKOqEW82pM"
      },
      "execution_count": null,
      "outputs": []
    },
    {
      "cell_type": "code",
      "source": [
        "!pwd\n",
        "\n",
        "!COMMANDLINE_ARGS=\"--share --gradio-debug --gradio-auth me:qwerty\" REQS_FILE=\"requirements.txt\" python launch.py"
      ],
      "metadata": {
        "id": "R-xAdMA5wxXd",
        "outputId": "8421a49c-5718-4150-afeb-202995078f2a",
        "colab": {
          "base_uri": "https://localhost:8080/"
        }
      },
      "execution_count": null,
      "outputs": [
        {
          "output_type": "stream",
          "name": "stdout",
          "text": [
            "/content/drive/MyDrive/Colab Notebooks/stablediffusionWebUI/stable-diffusion-webui\n",
            "Python 3.8.10 (default, Nov 14 2022, 12:59:47) \n",
            "[GCC 9.4.0]\n",
            "Commit hash: 0cc0ee1bcb4c24a8c9715f66cede06601bfc00c8\n",
            "Cloning CodeFormer into repositories/CodeFormer...\n",
            "Cloning BLIP into repositories/BLIP...\n",
            "Installing requirements for CodeFormer\n",
            "Installing requirements for Web UI\n",
            "Launching Web UI with arguments: --share --gradio-debug --gradio-auth me:qwerty\n",
            "2023-03-01 12:30:21.784053: I tensorflow/core/platform/cpu_feature_guard.cc:193] This TensorFlow binary is optimized with oneAPI Deep Neural Network Library (oneDNN) to use the following CPU instructions in performance-critical operations:  AVX2 AVX512F AVX512_VNNI FMA\n",
            "To enable them in other operations, rebuild TensorFlow with the appropriate compiler flags.\n",
            "2023-03-01 12:30:21.941036: I tensorflow/core/util/port.cc:104] oneDNN custom operations are on. You may see slightly different numerical results due to floating-point round-off errors from different computation orders. To turn them off, set the environment variable `TF_ENABLE_ONEDNN_OPTS=0`.\n",
            "2023-03-01 12:30:22.795653: W tensorflow/compiler/xla/stream_executor/platform/default/dso_loader.cc:64] Could not load dynamic library 'libnvinfer.so.7'; dlerror: libnvinfer.so.7: cannot open shared object file: No such file or directory; LD_LIBRARY_PATH: /usr/local/lib/python3.8/dist-packages/cv2/../../lib64:/usr/lib64-nvidia\n",
            "2023-03-01 12:30:22.795782: W tensorflow/compiler/xla/stream_executor/platform/default/dso_loader.cc:64] Could not load dynamic library 'libnvinfer_plugin.so.7'; dlerror: libnvinfer_plugin.so.7: cannot open shared object file: No such file or directory; LD_LIBRARY_PATH: /usr/local/lib/python3.8/dist-packages/cv2/../../lib64:/usr/lib64-nvidia\n",
            "2023-03-01 12:30:22.795804: W tensorflow/compiler/tf2tensorrt/utils/py_utils.cc:38] TF-TRT Warning: Cannot dlopen some TensorRT libraries. If you would like to use Nvidia GPU with TensorRT, please make sure the missing libraries mentioned above are installed properly.\n",
            "No module 'xformers'. Proceeding without it.\n",
            "Calculating sha256 for /content/drive/MyDrive/Colab Notebooks/stablediffusionWebUI/stable-diffusion-webui/models/Stable-diffusion/v1-5-pruned-emaonly.ckpt: cc6cb27103417325ff94f52b7a5d2dde45a7515b25c255d8e396c90014281516\n",
            "Loading weights [cc6cb27103] from /content/drive/MyDrive/Colab Notebooks/stablediffusionWebUI/stable-diffusion-webui/models/Stable-diffusion/v1-5-pruned-emaonly.ckpt\n",
            "Creating model from config: /content/drive/MyDrive/Colab Notebooks/stablediffusionWebUI/stable-diffusion-webui/configs/v1-inference.yaml\n",
            "LatentDiffusion: Running in eps-prediction mode\n",
            "DiffusionWrapper has 859.52 M params.\n",
            "Downloading (…)olve/main/vocab.json: 100% 961k/961k [00:00<00:00, 6.16MB/s]\n",
            "Downloading (…)olve/main/merges.txt: 100% 525k/525k [00:00<00:00, 4.68MB/s]\n",
            "Downloading (…)cial_tokens_map.json: 100% 389/389 [00:00<00:00, 159kB/s]\n",
            "Downloading (…)okenizer_config.json: 100% 905/905 [00:00<00:00, 369kB/s]\n",
            "Downloading (…)lve/main/config.json: 100% 4.52k/4.52k [00:00<00:00, 748kB/s]\n",
            "Applying cross attention optimization (Doggettx).\n",
            "Textual inversion embeddings loaded(0): \n",
            "Model loaded in 67.2s (calculate hash: 53.3s, load weights from disk: 4.3s, create model: 2.3s, apply weights to model: 0.5s, apply half(): 0.4s, load VAE: 5.7s, move model to device: 0.6s).\n",
            "Running on local URL:  http://127.0.0.1:7860\n",
            "Running on public URL: https://43204d63-273e-4e38.gradio.live\n",
            "\n",
            "This share link expires in 72 hours. For free permanent hosting and GPU upgrades (NEW!), check out Spaces: https://huggingface.co/spaces\n"
          ]
        }
      ]
    },
    {
      "cell_type": "markdown",
      "source": [
        "commands for ***after*** you have gotten done with a session\n",
        "============================================================================"
      ],
      "metadata": {
        "id": "9qrpRUJpno7L"
      }
    },
    {
      "cell_type": "markdown",
      "source": [
        "Zip images for downloading on local drive (click the folder icon on the left, the one below {x})"
      ],
      "metadata": {
        "id": "zB-L8JpElKp-"
      }
    },
    {
      "cell_type": "code",
      "source": [
        "!zip -r /content/stable-diffusion-webui /content/stable-diffusion-webui/outputs "
      ],
      "metadata": {
        "id": "gBt5g_Dn0NFo"
      },
      "execution_count": null,
      "outputs": []
    },
    {
      "cell_type": "markdown",
      "source": [
        "Save images to Google Drive **Warning: this will cause google to scan your drive, so if you intend to use this and worry about that kind of stuff, probablly just set this up on a clean account that's just for this colab**"
      ],
      "metadata": {
        "id": "odNn2KF5lFmb"
      }
    },
    {
      "cell_type": "code",
      "source": [
        "from google.colab import drive # type: ignore\n",
        "\n",
        "try:\n",
        "   drive_path = \"/content/drive\"\n",
        "   drive.mount(drive_path,force_remount=False)\n",
        "except:\n",
        "   print(\"...error mounting drive or with drive path variables\")\n",
        "\n",
        "!cp -r \"/content/stable-diffusion-webui/outputs\" \"/content/drive/MyDrive\""
      ],
      "metadata": {
        "id": "zNEgJfbhDwI6"
      },
      "execution_count": null,
      "outputs": []
    }
  ]
}