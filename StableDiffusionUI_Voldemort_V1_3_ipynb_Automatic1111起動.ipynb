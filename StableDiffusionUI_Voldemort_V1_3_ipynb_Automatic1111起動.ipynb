{
  "cells": [
    {
      "cell_type": "markdown",
      "metadata": {
        "id": "view-in-github",
        "colab_type": "text"
      },
      "source": [
        "<a href=\"https://colab.research.google.com/github/toshikaz55/StableDiffusion/blob/main/StableDiffusionUI_Voldemort_V1_3_ipynb_Automatic1111%E8%B5%B7%E5%8B%95.ipynb\" target=\"_parent\"><img src=\"https://colab.research.google.com/assets/colab-badge.svg\" alt=\"Open In Colab\"/></a>"
      ]
    },
    {
      "cell_type": "markdown",
      "metadata": {
        "id": "gfKvWAVnz8OB"
      },
      "source": [
        "Adapted from: https://colab.research.google.com/drive/1AfAmwLMd_Vx33O9IwY2TmO9wKZ8ABRRa"
      ]
    },
    {
      "cell_type": "code",
      "execution_count": 1,
      "metadata": {
        "colab": {
          "base_uri": "https://localhost:8080/"
        },
        "id": "Zo0oD0suKiI-",
        "outputId": "f6331c70-bdd2-4171-d587-5319ca5b02b7"
      },
      "outputs": [
        {
          "output_type": "stream",
          "name": "stdout",
          "text": [
            "Mounted at /content/drive\n"
          ]
        }
      ],
      "source": [
        "from google.colab import drive\n",
        "drive.mount('/content/drive')"
      ]
    },
    {
      "cell_type": "code",
      "execution_count": 3,
      "metadata": {
        "colab": {
          "base_uri": "https://localhost:8080/"
        },
        "id": "I1j4j2NfAQye",
        "outputId": "95fe2b19-63f8-487d-fa03-419a71af4395"
      },
      "outputs": [
        {
          "output_type": "stream",
          "name": "stdout",
          "text": [
            "/content/drive/My Drive/Colab Notebooks/stablediffusionWebUI/stable-diffusion-webui\n",
            "/content/drive/My Drive/Colab Notebooks/stablediffusionWebUI/stable-diffusion-webui\n",
            "From https://github.com/AUTOMATIC1111/stable-diffusion-webui\n",
            " * branch              HEAD       -> FETCH_HEAD\n",
            "Already up to date.\n"
          ]
        }
      ],
      "source": [
        "%cd '/content/drive/My Drive/Colab Notebooks/stablediffusionWebUI/stable-diffusion-webui'\n",
        "\n",
        "#dir_name = çablediffusi/onWebUI/ｔｘｔ２ｉｍｇ＿ｉｍａｇｅ／'\n",
        "#import sys\n",
        "#import os\n",
        "#sys.path.append(dir_name)\n",
        "#!pwd\n",
        "#os.chdir(dir_name) \n",
        "!pwd\n",
        "\n",
        "!git pull https://github.com/AUTOMATIC1111/stable-diffusion-webui"
      ]
    },
    {
      "cell_type": "markdown",
      "metadata": {
        "id": "xt8lbdmC04ox"
      },
      "source": [
        "Launch web ui. You will get a link to nnn.gradio.app, follow it.\n",
        "\n",
        "Commandline arguments are:\n",
        "  - `--share` - create online gradio.app link\n",
        "  - `--gradio-debug` - print outputs to console\n",
        "  - optional: `--gradio-auth me:qwerty` - add authentication to gradio: username XX, password XXXXXX\n",
        "  - see [wiki](https://github.com/AUTOMATIC1111/stable-diffusion-webui/wiki/Command-Line-Arguments-and-Settings) for more options"
      ]
    },
    {
      "cell_type": "code",
      "execution_count": null,
      "metadata": {
        "colab": {
          "base_uri": "https://localhost:8080/"
        },
        "id": "R-xAdMA5wxXd",
        "outputId": "1c10bfdf-3ccd-4bd4-c098-312972bbc3e1"
      },
      "outputs": [
        {
          "output_type": "stream",
          "name": "stdout",
          "text": [
            "Python 3.9.16 (main, Dec  7 2022, 01:11:51) \n",
            "[GCC 9.4.0]\n",
            "Commit hash: 0cc0ee1bcb4c24a8c9715f66cede06601bfc00c8\n",
            "Installing requirements for Web UI\n",
            "\n",
            "\n",
            "Launching Web UI with arguments: --gradio-debug --ngrok 2MRPchi7Hc09RAoLZcbI8hlnh02_6qqL1w4QhbQGrPDypJTCF --ngrok-region jp --gradio-auth me:qwerty --disable-nan-check --xformers --no-progressbar-hiding\n",
            "2023-03-09 02:09:31.328871: I tensorflow/core/platform/cpu_feature_guard.cc:193] This TensorFlow binary is optimized with oneAPI Deep Neural Network Library (oneDNN) to use the following CPU instructions in performance-critical operations:  AVX2 AVX512F AVX512_VNNI FMA\n",
            "To enable them in other operations, rebuild TensorFlow with the appropriate compiler flags.\n",
            "2023-03-09 02:09:31.492175: I tensorflow/core/util/port.cc:104] oneDNN custom operations are on. You may see slightly different numerical results due to floating-point round-off errors from different computation orders. To turn them off, set the environment variable `TF_ENABLE_ONEDNN_OPTS=0`.\n",
            "2023-03-09 02:09:32.382118: W tensorflow/compiler/xla/stream_executor/platform/default/dso_loader.cc:64] Could not load dynamic library 'libnvinfer.so.7'; dlerror: libnvinfer.so.7: cannot open shared object file: No such file or directory; LD_LIBRARY_PATH: /usr/local/lib/python3.9/dist-packages/cv2/../../lib64:/usr/lib64-nvidia\n",
            "2023-03-09 02:09:32.382287: W tensorflow/compiler/xla/stream_executor/platform/default/dso_loader.cc:64] Could not load dynamic library 'libnvinfer_plugin.so.7'; dlerror: libnvinfer_plugin.so.7: cannot open shared object file: No such file or directory; LD_LIBRARY_PATH: /usr/local/lib/python3.9/dist-packages/cv2/../../lib64:/usr/lib64-nvidia\n",
            "2023-03-09 02:09:32.382309: W tensorflow/compiler/tf2tensorrt/utils/py_utils.cc:38] TF-TRT Warning: Cannot dlopen some TensorRT libraries. If you would like to use Nvidia GPU with TensorRT, please make sure the missing libraries mentioned above are installed properly.\n",
            "ngrok authtoken detected, trying to connect...\n",
            "ngrok connected to localhost:7860! URL: https://aae9-34-87-80-126.jp.ngrok.io\n",
            "You can use this link after the launch is complete.\n",
            "Loading weights [59ffe2243a] from /content/drive/MyDrive/Colab Notebooks/stablediffusionWebUI/stable-diffusion-webui/models/Stable-diffusion/ChilloutMix-ni-fp16.safetensors\n",
            "Creating model from config: /content/drive/MyDrive/Colab Notebooks/stablediffusionWebUI/stable-diffusion-webui/configs/v1-inference.yaml\n",
            "LatentDiffusion: Running in eps-prediction mode\n",
            "DiffusionWrapper has 859.52 M params.\n",
            "Applying xformers cross attention optimization.\n",
            "Textual inversion embeddings loaded(3): realcumAI, EasyNegative, corneo_side_deepthroat\n",
            "Model loaded in 5.1s (load weights from disk: 0.4s, create model: 0.5s, apply weights to model: 1.3s, apply half(): 0.4s, load VAE: 1.9s, move model to device: 0.6s).\n",
            "Running on local URL:  http://127.0.0.1:7860\n",
            "\n",
            "To create a public link, set `share=True` in `launch()`.\n",
            "Loading model: control_sd15_openpose [fef5e48e]\n",
            "Loaded state_dict from [/content/drive/MyDrive/Colab Notebooks/stablediffusionWebUI/stable-diffusion-webui/extensions/sd-webui-controlnet/models/control_sd15_openpose.pth]\n",
            "ControlNet model control_sd15_openpose [fef5e48e] loaded.\n",
            "Loading preprocessor: openpose\n",
            "100% 40/40 [00:10<00:00,  3.76it/s]\n",
            "100% 40/40 [00:10<00:00,  3.84it/s]\n",
            "100% 40/40 [00:10<00:00,  3.90it/s]\n",
            "100% 40/40 [00:10<00:00,  3.87it/s]\n",
            "Loading model from cache: control_sd15_openpose [fef5e48e]\n",
            "Loading preprocessor: openpose\n",
            "100% 40/40 [00:10<00:00,  3.95it/s]\n",
            "100% 40/40 [00:10<00:00,  3.96it/s]\n",
            "100% 40/40 [00:10<00:00,  3.97it/s]\n",
            "100% 40/40 [00:10<00:00,  3.95it/s]\n",
            "100% 20/20 [00:04<00:00,  4.53it/s]\n",
            "Error running install.py for extension /content/drive/MyDrive/Colab Notebooks/stablediffusionWebUI/stable-diffusion-webui/extensions/sd_katanuki.\n",
            "Command: \"/usr/bin/python3\" \"/content/drive/MyDrive/Colab Notebooks/stablediffusionWebUI/stable-diffusion-webui/extensions/sd_katanuki/install.py\"\n",
            "Error code: 1\n",
            "stdout: Cloning anime-seg into extensions/sd_katanuki/anime-seg...\n",
            "\n",
            "stderr: Traceback (most recent call last):\n",
            "  File \"/content/drive/MyDrive/Colab Notebooks/stablediffusionWebUI/stable-diffusion-webui/extensions/sd_katanuki/install.py\", line 17, in <module>\n",
            "    git_clone(url, dir, name)\n",
            "  File \"/content/drive/MyDrive/Colab Notebooks/stablediffusionWebUI/stable-diffusion-webui/launch.py\", line 159, in git_clone\n",
            "    run(f'\"{git}\" clone \"{url}\" \"{dir}\"', f\"Cloning {name} into {dir}...\", f\"Couldn't clone {name}\")\n",
            "  File \"/content/drive/MyDrive/Colab Notebooks/stablediffusionWebUI/stable-diffusion-webui/launch.py\", line 105, in run\n",
            "    raise RuntimeError(message)\n",
            "RuntimeError: Couldn't clone anime-seg.\n",
            "Command: \"git\" clone \"https://huggingface.co/skytnt/anime-seg\" \"extensions/sd_katanuki/anime-seg\"\n",
            "Error code: 255\n",
            "stdout: <empty>\n",
            "stderr: Cloning into 'extensions/sd_katanuki/anime-seg'...\n",
            "Filtering content: 100% (2/2), 362.73 MiB | 22.72 MiB/s, done.\n",
            "fatal: cannot exec '/content/drive/MyDrive/Colab Notebooks/stablediffusionWebUI/stable-diffusion-webui/extensions/sd_katanuki/anime-seg/.git/hooks/post-checkout': Permission denied\n",
            "\n",
            "\n",
            "\n",
            "\n",
            "100% 40/40 [00:08<00:00,  4.59it/s]\n",
            "100% 40/40 [00:08<00:00,  4.60it/s]\n",
            "100% 40/40 [00:08<00:00,  4.60it/s]\n",
            "100% 40/40 [00:08<00:00,  4.55it/s]\n",
            "daam run with context_size=308, token_count=247\n",
            "100% 40/40 [00:18<00:00,  2.17it/s]\n",
            "daam run with context_size=308, token_count=247\n",
            "100% 40/40 [00:18<00:00,  2.20it/s]\n",
            "daam run with context_size=308, token_count=247\n",
            "100% 40/40 [00:18<00:00,  2.21it/s]\n",
            "daam run with context_size=308, token_count=247\n",
            "100% 40/40 [00:18<00:00,  2.21it/s]\n",
            "100% 40/40 [00:19<00:00,  2.10it/s]\n",
            "100% 40/40 [00:19<00:00,  2.10it/s]\n",
            "100% 40/40 [00:19<00:00,  2.09it/s]\n",
            "100% 40/40 [00:19<00:00,  2.10it/s]\n",
            "100% 40/40 [00:18<00:00,  2.11it/s]\n",
            "100% 40/40 [00:19<00:00,  2.09it/s]\n",
            "100% 40/40 [00:19<00:00,  2.10it/s]\n",
            "100% 40/40 [00:19<00:00,  2.09it/s]\n",
            "100% 40/40 [00:19<00:00,  2.10it/s]\n",
            "100% 40/40 [00:19<00:00,  2.10it/s]\n",
            "100% 40/40 [00:19<00:00,  2.10it/s]\n",
            "100% 40/40 [00:19<00:00,  2.10it/s]\n",
            "100% 40/40 [00:19<00:00,  2.09it/s]\n",
            "100% 40/40 [00:19<00:00,  2.08it/s]\n",
            "100% 40/40 [00:19<00:00,  2.08it/s]\n",
            "100% 40/40 [00:19<00:00,  2.09it/s]\n",
            "daam run with context_size=308, token_count=256\n",
            "100% 40/40 [00:18<00:00,  2.12it/s]\n",
            "daam run with context_size=308, token_count=256\n",
            "100% 40/40 [00:18<00:00,  2.17it/s]\n",
            "daam run with context_size=308, token_count=256\n",
            "100% 40/40 [00:18<00:00,  2.16it/s]\n",
            "daam run with context_size=308, token_count=256\n",
            "100% 40/40 [00:18<00:00,  2.17it/s]\n",
            "100% 40/40 [00:19<00:00,  2.08it/s]\n",
            "100% 40/40 [00:19<00:00,  2.09it/s]\n",
            "100% 40/40 [00:19<00:00,  2.08it/s]\n",
            "100% 40/40 [00:19<00:00,  2.06it/s]\n"
          ]
        }
      ],
      "source": [
        "!COMMANDLINE_ARGS=\" --gradio-debug --ngrok 2MRPchi7Hc09RAoLZcbI8hlnh02_6qqL1w4QhbQGrPDypJTCF --ngrok-region jp --gradio-auth me:qwerty --disable-nan-check --xformers --no-progressbar-hiding\" REQS_FILE=\"requirements.txt\" python launch.py"
      ]
    }
  ],
  "metadata": {
    "accelerator": "GPU",
    "colab": {
      "machine_shape": "hm",
      "provenance": [],
      "include_colab_link": true
    },
    "gpuClass": "premium",
    "kernelspec": {
      "display_name": "Python 3",
      "name": "python3"
    },
    "language_info": {
      "name": "python"
    }
  },
  "nbformat": 4,
  "nbformat_minor": 0
}
