{
  "nbformat": 4,
  "nbformat_minor": 0,
  "metadata": {
    "colab": {
      "provenance": [],
      "machine_shape": "hm",
      "include_colab_link": true
    },
    "kernelspec": {
      "name": "python3",
      "display_name": "Python 3"
    },
    "language_info": {
      "name": "python"
    },
    "accelerator": "GPU",
    "gpuClass": "premium"
  },
  "cells": [
    {
      "cell_type": "markdown",
      "metadata": {
        "id": "view-in-github",
        "colab_type": "text"
      },
      "source": [
        "<a href=\"https://colab.research.google.com/github/toshikaz55/StableDiffusion/blob/main/StableDiffusionUI_Voldemort_V1_3_ipynb_Automatic1111%E8%B5%B7%E5%8B%95.ipynb\" target=\"_parent\"><img src=\"https://colab.research.google.com/assets/colab-badge.svg\" alt=\"Open In Colab\"/></a>"
      ]
    },
    {
      "cell_type": "markdown",
      "source": [
        "Adapted from: https://colab.research.google.com/drive/1AfAmwLMd_Vx33O9IwY2TmO9wKZ8ABRRa"
      ],
      "metadata": {
        "id": "gfKvWAVnz8OB"
      }
    },
    {
      "cell_type": "code",
      "source": [
        "from google.colab import drive\n",
        "drive.mount('/content/drive')"
      ],
      "metadata": {
        "id": "Zo0oD0suKiI-",
        "outputId": "be65b5d3-f504-4b22-92d1-6f47a1732791",
        "colab": {
          "base_uri": "https://localhost:8080/"
        }
      },
      "execution_count": 1,
      "outputs": [
        {
          "output_type": "stream",
          "name": "stdout",
          "text": [
            "Mounted at /content/drive\n"
          ]
        }
      ]
    },
    {
      "cell_type": "code",
      "source": [
        "%cd '/content/drive/My Drive/Colab Notebooks/stablediffusionWebUI/stable-diffusion-webui'\n",
        "\n",
        "#dir_name = '/content/drive/My Drive/Colab Notebooks/stablediffusionWebUI/'\n",
        "#import sys\n",
        "#import os\n",
        "#sys.path.append(dir_name)\n",
        "#!pwd\n",
        "#os.chdir(dir_name) \n",
        "!pwd\n",
        "\n",
        "!git pull https://github.com/AUTOMATIC1111/stable-diffusion-webui"
      ],
      "metadata": {
        "id": "I1j4j2NfAQye",
        "outputId": "5cc6d3eb-6392-481d-974e-2adb242c58ca",
        "colab": {
          "base_uri": "https://localhost:8080/"
        }
      },
      "execution_count": 2,
      "outputs": [
        {
          "output_type": "stream",
          "name": "stdout",
          "text": [
            "/content/drive/My Drive/Colab Notebooks/stablediffusionWebUI/stable-diffusion-webui\n",
            "/content/drive/My Drive/Colab Notebooks/stablediffusionWebUI/stable-diffusion-webui\n",
            "From https://github.com/AUTOMATIC1111/stable-diffusion-webui\n",
            " * branch              HEAD       -> FETCH_HEAD\n",
            "Already up to date.\n"
          ]
        }
      ]
    },
    {
      "cell_type": "markdown",
      "source": [
        "Launch web ui. You will get a link to nnn.gradio.app, follow it.\n",
        "\n",
        "Commandline arguments are:\n",
        "  - `--share` - create online gradio.app link\n",
        "  - `--gradio-debug` - print outputs to console\n",
        "  - optional: `--gradio-auth me:qwerty` - add authentication to gradio: username me, password qwerty\n",
        "  - see [wiki](https://github.com/AUTOMATIC1111/stable-diffusion-webui/wiki/Command-Line-Arguments-and-Settings) for more options"
      ],
      "metadata": {
        "id": "xt8lbdmC04ox"
      }
    },
    {
      "cell_type": "code",
      "source": [
        "!COMMANDLINE_ARGS=\"--share --gradio-debug --ngrok 2MRPchi7Hc09RAoLZcbI8hlnh02_6qqL1w4QhbQGrPDypJTCF --ngrok-region jp --gradio-auth me:qwerty --disable-nan-check --xformers\" REQS_FILE=\"requirements.txt\" python launch.py"
      ],
      "metadata": {
        "id": "R-xAdMA5wxXd",
        "outputId": "408c0a09-b348-4ac7-ee12-a534f5bd8c18",
        "colab": {
          "base_uri": "https://localhost:8080/"
        }
      },
      "execution_count": null,
      "outputs": [
        {
          "output_type": "stream",
          "name": "stdout",
          "text": [
            "Python 3.8.10 (default, Nov 14 2022, 12:59:47) \n",
            "[GCC 9.4.0]\n",
            "Commit hash: 0cc0ee1bcb4c24a8c9715f66cede06601bfc00c8\n",
            "Installing ngrok\n",
            "Installing requirements for Web UI\n",
            "Launching Web UI with arguments: --share --gradio-debug --ngrok 2MRPchi7Hc09RAoLZcbI8hlnh02_6qqL1w4QhbQGrPDypJTCF --ngrok-region jp --gradio-auth me:qwerty --disable-nan-check --xformers\n",
            "2023-03-04 04:53:04.535538: I tensorflow/core/platform/cpu_feature_guard.cc:193] This TensorFlow binary is optimized with oneAPI Deep Neural Network Library (oneDNN) to use the following CPU instructions in performance-critical operations:  AVX2 AVX512F AVX512_VNNI FMA\n",
            "To enable them in other operations, rebuild TensorFlow with the appropriate compiler flags.\n",
            "2023-03-04 04:53:04.692155: I tensorflow/core/util/port.cc:104] oneDNN custom operations are on. You may see slightly different numerical results due to floating-point round-off errors from different computation orders. To turn them off, set the environment variable `TF_ENABLE_ONEDNN_OPTS=0`.\n",
            "2023-03-04 04:53:05.565089: W tensorflow/compiler/xla/stream_executor/platform/default/dso_loader.cc:64] Could not load dynamic library 'libnvinfer.so.7'; dlerror: libnvinfer.so.7: cannot open shared object file: No such file or directory; LD_LIBRARY_PATH: /usr/local/lib/python3.8/dist-packages/cv2/../../lib64:/usr/lib64-nvidia\n",
            "2023-03-04 04:53:05.565201: W tensorflow/compiler/xla/stream_executor/platform/default/dso_loader.cc:64] Could not load dynamic library 'libnvinfer_plugin.so.7'; dlerror: libnvinfer_plugin.so.7: cannot open shared object file: No such file or directory; LD_LIBRARY_PATH: /usr/local/lib/python3.8/dist-packages/cv2/../../lib64:/usr/lib64-nvidia\n",
            "2023-03-04 04:53:05.565223: W tensorflow/compiler/tf2tensorrt/utils/py_utils.cc:38] TF-TRT Warning: Cannot dlopen some TensorRT libraries. If you would like to use Nvidia GPU with TensorRT, please make sure the missing libraries mentioned above are installed properly.\n",
            "ngrok authtoken detected, trying to connect...\n",
            "ngrok connected to localhost:7860! URL: https://207d-34-138-193-253.jp.ngrok.io\n",
            "You can use this link after the launch is complete.\n",
            "Loading weights [59ffe2243a] from /content/drive/MyDrive/Colab Notebooks/stablediffusionWebUI/stable-diffusion-webui/models/Stable-diffusion/ChilloutMix-ni-fp16.safetensors\n",
            "Creating model from config: /content/drive/MyDrive/Colab Notebooks/stablediffusionWebUI/stable-diffusion-webui/configs/v1-inference.yaml\n",
            "LatentDiffusion: Running in eps-prediction mode\n",
            "DiffusionWrapper has 859.52 M params.\n",
            "Applying xformers cross attention optimization.\n",
            "Textual inversion embeddings loaded(2): realcumAI, EasyNegative\n",
            "Model loaded in 5.3s (load weights from disk: 0.3s, create model: 0.8s, apply weights to model: 1.3s, apply half(): 0.3s, load VAE: 1.9s, move model to device: 0.6s).\n",
            "Running on local URL:  http://127.0.0.1:7860\n",
            "Running on public URL: https://1ca65746-1b35-4e55.gradio.live\n",
            "\n",
            "This share link expires in 72 hours. For free permanent hosting and GPU upgrades (NEW!), check out Spaces: https://huggingface.co/spaces\n",
            "100% 40/40 [00:19<00:00,  2.02it/s]\n",
            "100% 40/40 [00:18<00:00,  2.18it/s]\n",
            "100% 40/40 [00:18<00:00,  2.21it/s]\n",
            "100% 40/40 [00:18<00:00,  2.19it/s]\n"
          ]
        }
      ]
    }
  ]
}