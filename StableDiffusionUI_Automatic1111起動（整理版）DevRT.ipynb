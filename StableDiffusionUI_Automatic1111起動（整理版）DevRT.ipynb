{
  "cells": [
    {
      "cell_type": "markdown",
      "metadata": {
        "id": "view-in-github",
        "colab_type": "text"
      },
      "source": [
        "<a href=\"https://colab.research.google.com/github/toshikaz55/StableDiffusion/blob/main/StableDiffusionUI_Automatic1111%E8%B5%B7%E5%8B%95%EF%BC%88%E6%95%B4%E7%90%86%E7%89%88%EF%BC%89DevRT.ipynb\" target=\"_parent\"><img src=\"https://colab.research.google.com/assets/colab-badge.svg\" alt=\"Open In Colab\"/></a>"
      ]
    },
    {
      "cell_type": "markdown",
      "metadata": {
        "id": "gfKvWAVnz8OB"
      },
      "source": [
        "Adapted from: https://colab.research.google.com/drive/1AfAmwLMd_Vx33O9IwY2TmO9wKZ8ABRRa"
      ]
    },
    {
      "cell_type": "code",
      "execution_count": null,
      "metadata": {
        "id": "Zo0oD0suKiI-"
      },
      "outputs": [],
      "source": [
        "from google.colab import drive\n",
        "drive.mount('/content/drive')"
      ]
    },
    {
      "cell_type": "code",
      "source": [
        "#一回だけ？NVIDIADriverの削除と再インストール\n",
        "\n",
        "#!sudo apt-get --purge remove nvidia-*\n",
        "#!sudo apt-get --purge remove cuda-*\n",
        "\n",
        "#!sudo add-apt-repository ppa:graphics-drivers/ppa\n",
        "#!sudo apt-get update\n",
        "\n",
        "#!sudo apt install nvidia-driver-450\n",
        "\n",
        "!nvidia-smi\n",
        "\n",
        "isInstalled=False"
      ],
      "metadata": {
        "id": "iZIflbbC1hwI"
      },
      "execution_count": null,
      "outputs": []
    },
    {
      "cell_type": "code",
      "source": [
        "import os\n",
        "os.environ['LD_LIBRARY_PATH']='/usr/local/cuda/lib64:' + os.getenv('LD_LIBRARY_PATH', '')\n",
        "#os.environ['LD_LIBRARY_PATH']='/usr/local/cuda-11.8/lib64:' + os.getenv('LD_LIBRARY_PATH', '')\n",
        "#os.environ['LD_LIBRARY_PATH']='/content/drive/MyDrive/misc/TensorRT/build/out:' + os.getenv('LD_LIBRARY_PATH', '')\n",
        "\n",
        "\"\"\"\n",
        "!echo 'export LD_LIBRARY_PATH=\"/content/drive/MyDrive/misc/TensorRT/build/out\":$LD_LIBRARY_PATH' >> $HOME/.bashrc\n",
        "!echo 'export LD_LIBRARY_PATH=\"/usr/local/cuda/lib64:$LD_LIBRARY_PATH\"'  >> $HOME/.bashrc\n",
        "!echo 'export LD_LIBRARY_PATH=\"/usr/local/cuda-11.8/lib64:$LD_LIBRARY_PATH\"'  >> $HOME/.bashrc\n",
        "\n",
        "\n",
        "!export LD_LIBRARY_PATH='/content/drive/MyDrive/misc/TensorRT/build/out':$LD_LIBRARY_PATH\n",
        "!export LD_LIBRARY_PATH='/usr/local/cuda/lib64':$LD_LIBRARY_PATH\n",
        "!export LD_LIBRARY_PATH='/usr/local/cuda-11.8/lib64':$LD_LIBRARY_PATH\n",
        "\"\"\"\n",
        "!echo $LD_LIBRARY_PATH\n",
        "\n",
        "\n",
        "!echo 'export PATH=\"/usr/local/lib/bazel/bin:$PATH\"' >> $HOME/.bashrc\n",
        "!echo 'export PATH=\"/usr/local/cuda/bin:$PATH\"'  >> $HOME/.bashrc\n",
        "!echo 'export PATH=\"/usr/local/cuda-11.8/bin:$PATH\"'  >> $HOME/.bashrc\n",
        "\n",
        "!echo 'source /usr/local/lib/bazel/bin/bazel-complete.bash' >> $HOME/.bashrc\n",
        "\n",
        "#!echo 'export LD_LIBRARY_PATH=\"/usr/local/cuda/lib64:$LD_LIBRARY_PATH\"'  >> $HOME/.bashrc\n",
        "#!echo 'export LD_LIBRARY_PATH=\"/usr/local/cuda-11.8/lib64:$LD_LIBRARY_PATH\"'  >> $HOME/.bashrc\n",
        "#!echo 'export LD_LIBRARY_PATH=\"/usr/local/cuda-12.1/lib64:$LD_LIBRARY_PATH\"'  >> $HOME/.bashrc\n",
        "\n",
        "#!cat $HOME/.bashrc\n",
        "\n",
        "!source $HOME/.bashrc\n",
        "\n",
        "!echo $PATH\n",
        "\n",
        "!echo $LD_LIBRARY_PATH\n",
        "\n",
        "!nvidia-smi\n",
        "!nvcc --version"
      ],
      "metadata": {
        "id": "eN2McNxNvvt2"
      },
      "execution_count": null,
      "outputs": []
    },
    {
      "cell_type": "code",
      "source": [
        "!git config --global user.email \"you@example.com\"\n",
        "!git config --global user.name \"toshikaz\""
      ],
      "metadata": {
        "id": "L0Ln9uqTkiyk"
      },
      "execution_count": null,
      "outputs": []
    },
    {
      "cell_type": "code",
      "execution_count": null,
      "metadata": {
        "id": "UP9cuFqzAEdS"
      },
      "outputs": [],
      "source": [
        "%%javascript\n",
        "function ClickConnect(){\n",
        "console.log(\"Working\");\n",
        "document.querySelector(\"colab-toolbar-button#connect\").click()\n",
        "}setInterval(ClickConnect,60000)"
      ]
    },
    {
      "cell_type": "code",
      "source": [
        "#pythonのバージョンを確認\n",
        "!python --version\n",
        "\n",
        "#!echo $PATH\n",
        "\n",
        "%cd /content/drive/MyDrive/misc\n",
        "\n",
        "!update-alternatives --set cuda /usr/local/cuda-11.8\n",
        "\n",
        "#!update-alternatives --config cuda\n",
        "\n",
        "!nvcc --version\n",
        "\n",
        "import os\n",
        "os.environ['KMP_DUPLICATE_LIB_OK'] = 'TRUE'\n",
        "\n",
        "os.environ['TF_FORCE_GPU_ALLOW_GROWTH'] = 'true'\n",
        "!DEBIAN_FRONTEND=noninteractive"
      ],
      "metadata": {
        "id": "A6mSMVMbXH7t"
      },
      "execution_count": null,
      "outputs": []
    },
    {
      "cell_type": "code",
      "source": [
        "!echo CUDA 11.8のインストール\n",
        "\n",
        "%cd /content/drive/MyDrive/misc\n",
        "\n",
        "\"\"\"\n",
        "\n",
        "!echo CUDAリポジトリの設定\n",
        "!wget https://developer.download.nvidia.com/compute/cuda/repos/ubuntu1804/x86_64/cuda-ubuntu1804.pin\n",
        "!sudo mv cuda-ubuntu1804.pin /etc/apt/preferences.d/cuda-repository-pin-600\n",
        "!sudo apt-key adv --fetch-keys https://developer.download.nvidia.com/compute/cuda/repos/ubuntu1804/x86_64/7fa2af80.pub\n",
        "!sudo add-apt-repository \"deb https://developer.download.nvidia.com/compute/cuda/repos/ubuntu1804/x86_64/ /\"\n",
        "!sudo apt-get update\n",
        "\n",
        "\n",
        "!DEBIAN_FRONTEND=noninteractive\n",
        "\n",
        "!wget https://developer.download.nvidia.com/compute/cuda/repos/ubuntu1804/x86_64/cuda-ubuntu1804.pin\n",
        "!sudo mv cuda-ubuntu1804.pin /etc/apt/preferences.d/cuda-repository-pin-600\n",
        "\n",
        "#!wget https://developer.download.nvidia.com/compute/cuda/11.8.0/local_installers/cuda-repo-ubuntu1804-11-8-local_11.8.0-520.61.05-1_amd64.deb\n",
        "\n",
        "!sudo dpkg -i cuda-repo-ubuntu1804-11-8-local_11.8.0-520.61.05-1_amd64.deb\n",
        "\n",
        "!sudo apt-key del 7fa2af80\n",
        "!wget https://developer.download.nvidia.com/compute/cuda/repos/ubuntu1804/x86_64/cuda-keyring_1.0-1_all.deb\n",
        "!sudo dpkg -i cuda-keyring_1.0-1_all.deb\n",
        "!sudo apt update\n",
        "\n",
        "#!sudo cp /var/cuda-repo-ubuntu1804-11-8-local/cuda-*-keyring.gpg /usr/share/keyrings/\n",
        "!sudo apt-get update\n",
        "!sudo apt-get -y install cuda\n",
        "\n",
        "\n",
        "!echo cuDNNのインストール\n",
        "!sudo apt install ./cudnn-local-repo-ubuntu1804-8.9.0.131_1.0-1_amd64.deb\n",
        "#!sudo cp /var/cudnn-local-repo-*/cudnn-local-*-keyring.gpg /usr/share/keyrings/\n",
        "!sudo apt-key add /var/cudnn-local-repo-ubuntu1804-8.9.0.131/7fa2af80.pub\n",
        "!sudo apt-get update\n",
        "\n",
        "!sudo apt-get install libcudnn8=8.9.0.131-1+cuda11-1\n",
        "!sudo apt-get install -y --no-install-recommends --allow-change-held-packages libnvinfer8 libnvinfer-dev libnvinfer-plugin8\n",
        "\n",
        "\n",
        "\"\"\""
      ],
      "metadata": {
        "id": "vo3n0UUwdYD3"
      },
      "execution_count": null,
      "outputs": []
    },
    {
      "cell_type": "code",
      "source": [
        "#@title PyTorchのインストール\n",
        "\n",
        "#%cd '/content/drive/My Drive/Colab Notebooks/WebUI/'\n",
        "\n",
        "!nvcc --version\n",
        "\n",
        "!echo $LD_LIBRARY_PATH\n",
        "if isInstalled:\n",
        "  pass\n",
        "\n",
        "else:\n",
        "\n",
        "  #!echo install Tensorflow\n",
        "\n",
        "  #!pip install tensorflow\n",
        "\n",
        "  !echo install torch\n",
        "\n",
        "  #!pip install --upgrade pip\n",
        "\n",
        "  #!pip install pycuda\n",
        "\n",
        "  #!echo install torch\n",
        "\n",
        "  #nvidia driver for cuda11.8 450.80.02\n",
        "\n",
        "  #!pip install --no-cache-dir torch torchvision torchtext torchaudio torchdata #--index-url https://download.pytorch.org/whl/cu118\n",
        "  !#pip install --no-cache-dir torch torchvision torchtext torchaudio torchdata #--index-url https://download.pytorch.org/whl/cu118\n",
        "\n",
        "  !pip install torch==2.0.0+cu118 torchvision==0.15.1+cu118 torchtext torchaudio torchdata==0.6.0 --index-url https://download.pytorch.org/whl/cu118\n",
        "  #!pip install torch==2.0.1+cu118 --index-url https://download.pytorch.org/whl/cu118\n",
        "  #!pip install --no-cache-dir torch==2.0.0+cu118 torchvision==0.15.1+cu118 torchtext torchaudio torchdata==0.6.0 --index-url https://download.pytorch.org/whl/cu118\n",
        "  #!pip install --no-cache-dir torchvision torchtext torchaudio torchdata --index-url https://download.pytorch.org/whl/cu118\n",
        "\n",
        "\n",
        "  import torch\n",
        "  print(torch.cuda.is_available())\n",
        "\n",
        "  device = torch.device('cuda:0' if torch.cuda.is_available() else 'cpu')\n",
        "  print(device)\n",
        "\n",
        "  #torch.set_default_tensor_type('torch.cuda.FloatTensor')\n",
        "  torch.set_default_tensor_type(torch.cuda.FloatTensor)\n",
        "  a = torch.tensor([1, 2, 3])\n",
        "  print(a.device)\n"
      ],
      "metadata": {
        "id": "OnwkigwRtcL1"
      },
      "execution_count": null,
      "outputs": []
    },
    {
      "cell_type": "code",
      "source": [
        "#@title TensroRTのインストール\n",
        "\n",
        "!echo \"\"\n",
        "!echo \"TensorfRTのインストール\"\n",
        "!echo \"\"\n",
        "\n",
        "!echo $LD_LIBRARY_PATH\n",
        "#isInstalled=False\n",
        "\n",
        "if isInstalled:\n",
        "  pass\n",
        "\n",
        "else:\n",
        "  #!pip install nvidia-tensorrt\n",
        "  !pip install tensorrt==8.6.1 tensorrt-libs\n",
        "\n",
        "\n",
        "  !echo $LD_LIBRARY_PATH\n",
        "\n",
        "  #!pip install nvidia-tensorrt\n",
        "  #!pip install tensorrt\n",
        "\n",
        "  #!pip install huggingface-hub==0.13.4\n",
        "  #!pip install image-reward\n",
        "\n",
        "\n",
        "\n",
        "\n",
        "  \"\"\"\n",
        "  !git clone https://github.com/ddPn08/Lsmith.git\n",
        "  %cd Lsmith\n",
        "\n",
        "  !git submodule update --init --recursive\n",
        "  \"\"\"\n",
        "  %cd /content/drive/MyDrive/misc\n",
        "\n",
        "  !sudo dpkg -i nv-tensorrt-local-repo-ubuntu1804-8.6.1-cuda-11.8_1.0-1_amd64.deb\n",
        "  #!sudo dpkg -i nv-tensorrt-local-repo-ubuntu2204-8.5.3-cuda-11.8_1.0-1_amd64.deb\n",
        "  !sudo cp /var/nv-tensorrt-local-repo-ubuntu1804-8.6.1-cuda-11.8/nv-tensorrt-local-3E951519-keyring.gpg /usr/share/keyrings/\n",
        "  !sudo apt-get update\n",
        "\n",
        "  \"\"\"\n",
        "\n",
        "  !sudo apt install \\\n",
        "  libnvinfer8=8.6.1-1+cuda11.8 \\\n",
        "  libnvinfer-plugin8=8.6.1-1+cuda11.8 \\\n",
        "  libnvinfer-vc-plugin8=8.6.1-1+cuda11.8 \\\n",
        "  libnvinfer-lean8=8.6.1-1+cuda11.8 \\\n",
        "  libnvinfer-dispatch8=8.6.1-1+cuda11.8 \\\n",
        "  libnvparsers8=8.6.1-1+cuda11.8 \\\n",
        "  libnvonnxparsers8=8.6.1-1+cuda11.8 \\\n",
        "  libnvinfer-bin=8.6.1-1+cuda11.8 \\\n",
        "  libnvinfer-headers-dev=8.6.1-1+cuda11.8 \\\n",
        "  libnvinfer-dev=8.6.1-1+cuda11.8 \\\n",
        "  libnvinfer-lean-dev=8.6.1-1+cuda11.8 \\\n",
        "  libnvinfer-headers-plugin-dev=8.6.1-1+cuda11.8 \\\n",
        "  libnvinfer-plugin-dev=8.6.1-1+cuda11.8 \\\n",
        "  libnvinfer-vc-plugin-dev=8.6.0.12-1+cuda11.8 \\\n",
        "  libnvinfer-dispatch-dev=8.6.1-1+cuda11.8 \\\n",
        "  libnvparsers-dev=8.6.1-1+cuda11.8 \\\n",
        "  libnvonnxparsers-dev=8.6.1-1+cuda11.8 \\\n",
        "  libnvinfer-samples=8.6.1-1+cuda11.8 \\\n",
        "  tensorrt=8.6.1-1+cuda11.8\n",
        "\n",
        "  \"\"\"\n",
        "  !sudo apt install \\\n",
        "  libnvinfer8=8.6.0.12-1+cuda11.8 \\\n",
        "  libnvinfer-plugin8=8.6.0.12-1+cuda11.8 \\\n",
        "  libnvinfer-vc-plugin8=8.6.0.12-1+cuda11.8 \\\n",
        "  libnvinfer-lean8=8.6.0.12-1+cuda11.8 \\\n",
        "  libnvinfer-dispatch8=8.6.0.12-1+cuda11.8 \\\n",
        "  libnvparsers8=8.6.0.12-1+cuda11.8 \\\n",
        "  libnvonnxparsers8=8.6.0.12-1+cuda11.8 \\\n",
        "  libnvinfer-bin=8.6.0.12-1+cuda11.8 \\\n",
        "  libnvinfer-headers-dev=8.6.0.12-1+cuda11.8 \\\n",
        "  libnvinfer-dev=8.6.0.12-1+cuda11.8 \\\n",
        "  libnvinfer-lean-dev=8.6.0.12-1+cuda11.8 \\\n",
        "  libnvinfer-headers-plugin-dev=8.6.0.12-1+cuda11.8 \\\n",
        "  libnvinfer-plugin-dev=8.6.0.12-1+cuda11.8 \\\n",
        "  libnvinfer-vc-plugin-dev=8.6.0.12-1+cuda11.8 \\\n",
        "  libnvinfer-dispatch-dev=8.6.0.12-1+cuda11.8 \\\n",
        "  libnvparsers-dev=8.6.0.12-1+cuda11.8 \\\n",
        "  libnvonnxparsers-dev=8.6.0.12-1+cuda11.8 \\\n",
        "  libnvinfer-samples=8.6.0.12-1+cuda11.8 \\\n",
        "  tensorrt=8.6.0.12-1+cuda11.8\n",
        "\n",
        "  #Pythonから呼び出せるようにする\n",
        "  #Python3の場合\n",
        "  !sudo apt-get install python3-libnvinfer-dev\n",
        "\n",
        "  #Tensorflowと連携させたいなら\n",
        "  !sudo apt-get install uff-converter-tf\n",
        "\n",
        "\n",
        "\n",
        "isInstalled=True"
      ],
      "metadata": {
        "id": "SABzOMtK7WzH"
      },
      "execution_count": null,
      "outputs": []
    },
    {
      "cell_type": "code",
      "source": [
        "!sudo pip install pip install onnxruntime\n",
        "\n",
        "#!pip install --upgrade diffusers[torch]"
      ],
      "metadata": {
        "id": "9dYpQFCNxI0l"
      },
      "execution_count": null,
      "outputs": []
    },
    {
      "cell_type": "code",
      "source": [
        "#install tensorflow\n",
        "\"\"\"\n",
        "!export PLUGIN_LIBS='/content/drive/MyDrive/misc/TensorRT/build/out/libnvinfer_plugin.so'\n",
        "!export PLUGIN_LIBS=\"$TRT_OSSPATH/build/out/libnvinfer_plugin.so\"\n",
        "\n",
        "!ln  -s /content/drive/MyDrive/misc/TensorRT/build/out/libnvinfer_plugin.so /usr/local/cuda/lib64/libnvinfer_plugin.so\n",
        "\n",
        "\"\"\"\n",
        "\"\"\"\n",
        "ln -s /home/yurimaru/miniconda3/envs/tf/lib/python3.10/site-packages/tensorrt/libnvinfer.so.8 /home/yurimaru/miniconda3/envs/tf/lib/libnvinfer.so.7\n",
        "ln -s /home/yurimaru/miniconda3/envs/tf/lib/python3.10/site-packages/tensorrt/libnvinfer_plugin.so.8 /home/yurimaru/miniconda3/envs/tf/lib/libnvinfer_plugin.so.7\n",
        "\n",
        "\"\"\"\n",
        "\"\"\"\n",
        "!pwd\n",
        "\n",
        "%cd /content/drive/MyDrive/misc\n",
        "\n",
        "#!pip uninstall tensorflow\n",
        "\n",
        "#!pip install protobuf==3.20.0\n",
        "\n",
        "#!pip install tensorflow-2.14.0-cp310-cp310-linux_x86_64.whl\n",
        "#!pip install tensorflow\n",
        "\n",
        "!pip install image-reward\n",
        "\n",
        "!git clone https://github.com/ddPn08/Lsmith.git\n",
        "%cd Lsmith\n",
        "\n",
        "!git submodule update --init --recursive\n",
        "\n",
        "!./launch.sh\n",
        "\"\"\""
      ],
      "metadata": {
        "id": "0g3HxNjjZ0EF"
      },
      "execution_count": null,
      "outputs": []
    },
    {
      "cell_type": "code",
      "source": [
        "#@title Automatic1111のインストール\n",
        "\n",
        "#%cd '/content/drive/My Drive/Colab Notebooks/WebUI/stable-diffusion-webui-Dev2/stable-diffusion-webui'\n",
        "%cd '/content/drive/My Drive/Colab Notebooks/WebUI/stable-diffusion-webui'\n",
        "\n",
        "#!git stash\n",
        "#!git checkout dev\n",
        "\n",
        "!git log -1\n",
        "\n",
        "#!git clone https://github.com/AUTOMATIC1111/stable-diffusion-webui\n",
        "\n",
        "!git pull --allow-unrelated-histories https://github.com/AUTOMATIC1111/stable-diffusion-webui\n",
        "#!git reset --hard baf6946e06249c5af9851c60171692c44ef633e0\n",
        "#!git reset --hard 72cd27a13587c9579942577e9e3880778be195f6\n"
      ],
      "metadata": {
        "id": "IwJgyJX4JqMq"
      },
      "execution_count": null,
      "outputs": []
    },
    {
      "cell_type": "markdown",
      "metadata": {
        "id": "xt8lbdmC04ox"
      },
      "source": [
        "Launch web ui. You will get a link to nnn.gradio.app, follow it.\n",
        "\n",
        "Commandline arguments are:\n",
        "  - `--share` - create online gradio.app link\n",
        "  - `--gradio-debug` - print outputs to console\n",
        "  - optional: `--gradio-auth me:qwerty` - add authentication to gradio: username me, password qwerty\n",
        "  - see [wiki](https://github.com/AUTOMATIC1111/stable-diffusion-webui/wiki/Command-Line-Arguments-and-Settings) for more options"
      ]
    },
    {
      "cell_type": "code",
      "execution_count": null,
      "metadata": {
        "id": "R-xAdMA5wxXd"
      },
      "outputs": [],
      "source": [
        "#@title Automatic1111起動\n",
        "\n",
        "#!pip install gradio\n",
        "\n",
        "#!pip install huggingface-hub==0.13.4\n",
        "#!pip install image-reward\n",
        "\n",
        "!pip install -U dynamicprompts[attentiongrabber,magicprompt]\n",
        "\n",
        "!git stash\n",
        "\n",
        "\"\"\"\n",
        "import torch\n",
        "print(torch.cuda.is_available())\n",
        "\n",
        "device = torch.device('cuda:0' if torch.cuda.is_available() else 'cpu')\n",
        "print(device)\n",
        "\n",
        "#torch.set_default_tensor_type('torch.cuda.FloatTensor')\n",
        "torch.set_default_tensor_type(torch.cuda.FloatTensor)\n",
        "a = torch.tensor([1, 2, 3])\n",
        "print(a.device)\n",
        "\"\"\"\n",
        "\n",
        "!export LD_LIBRARY_PATH=/content/drive/MyDrive/Colab Notebooks/WebUI/stable-diffusion-webui/extensions/stable-diffusion-webui-tensorrt/TensorRT-8.6.1.6/lib:$LD_LIBRARY_PATH\n",
        "#!export LD_LIBRARY_PATH=/usr/local/cuda/lib64:$LD_LIBRARY_PATH\n",
        "\n",
        "\n",
        "!PYTORCH_CUDA_ALLOC_CONF=\"garbage_collection_threshold:0.8, max_split_size_mb:128\" COMMANDLINE_ARGS=\" --gradio-debug --ngrok 2MRPchi7Hc09RAoLZcbI8hlnh02_6qqL1w4QhbQGrPDypJTCF --ngrok-region jp --no-half-vae --precision full --no-half --opt-sdp-no-mem-attention --disable-nan-check --skip-version-check --disable-safe-unpickle --no-progressbar-hiding --skip-torch-cuda-test \" REQS_FILE=\"requirements.txt\" python launch.py"
      ]
    }
  ],
  "metadata": {
    "accelerator": "GPU",
    "colab": {
      "machine_shape": "hm",
      "provenance": [],
      "private_outputs": true,
      "gpuType": "V100",
      "gpuClass": "premium",
      "include_colab_link": true
    },
    "gpuClass": "premium",
    "kernelspec": {
      "display_name": "Python 3",
      "name": "python3"
    },
    "language_info": {
      "name": "python"
    }
  },
  "nbformat": 4,
  "nbformat_minor": 0
}